{
  "nbformat": 4,
  "nbformat_minor": 0,
  "metadata": {
    "colab": {
      "provenance": []
    },
    "kernelspec": {
      "name": "python3",
      "display_name": "Python 3"
    },
    "language_info": {
      "name": "python"
    }
  },
  "cells": [
    {
      "cell_type": "code",
      "execution_count": 1,
      "metadata": {
        "id": "VZeLpRkaOY3Q"
      },
      "outputs": [],
      "source": [
        "import numpy as np"
      ]
    },
    {
      "cell_type": "code",
      "source": [
        "import matplotlib.pyplot as plt"
      ],
      "metadata": {
        "id": "eFdwMsz1Od8t"
      },
      "execution_count": 2,
      "outputs": []
    },
    {
      "cell_type": "code",
      "source": [
        "from numpy.random import random"
      ],
      "metadata": {
        "id": "32UOiM-gOd_A"
      },
      "execution_count": 3,
      "outputs": []
    },
    {
      "cell_type": "code",
      "source": [
        "%matplotlib inline"
      ],
      "metadata": {
        "id": "50IfVZLBOeBs"
      },
      "execution_count": 4,
      "outputs": []
    },
    {
      "cell_type": "code",
      "source": [
        "N=1500"
      ],
      "metadata": {
        "id": "hVitukuhOeEP"
      },
      "execution_count": 5,
      "outputs": []
    },
    {
      "cell_type": "code",
      "source": [
        "mean1=[6,14]"
      ],
      "metadata": {
        "id": "gzqOI7FzOeGe"
      },
      "execution_count": 6,
      "outputs": []
    },
    {
      "cell_type": "code",
      "source": [
        "mean2=[10,6]"
      ],
      "metadata": {
        "id": "EOfZPNlOOeI6"
      },
      "execution_count": 7,
      "outputs": []
    },
    {
      "cell_type": "code",
      "source": [
        "mean3=[14,14]"
      ],
      "metadata": {
        "id": "rRzCOzeeOeLj"
      },
      "execution_count": 8,
      "outputs": []
    },
    {
      "cell_type": "code",
      "source": [
        "cov=[[3.5,0],[0,3.5]]"
      ],
      "metadata": {
        "id": "4qWrTGqYOeOR"
      },
      "execution_count": 9,
      "outputs": []
    },
    {
      "cell_type": "code",
      "source": [
        "np.random.seed(50)"
      ],
      "metadata": {
        "id": "tqVVpqmyOeQw"
      },
      "execution_count": 10,
      "outputs": []
    },
    {
      "cell_type": "code",
      "source": [
        "X=np.random.multivariate_normal(mean1,cov,int(N/6))"
      ],
      "metadata": {
        "id": "_WWLfBOAOpfT"
      },
      "execution_count": 11,
      "outputs": []
    },
    {
      "cell_type": "code",
      "source": [
        "X=np.concatenate((X,np.random.multivariate_normal(mean2,cov,int(N/6))))"
      ],
      "metadata": {
        "id": "0oLNoPeWOphr"
      },
      "execution_count": 12,
      "outputs": []
    },
    {
      "cell_type": "code",
      "source": [
        "X=np.concatenate((X,np.random.multivariate_normal(mean3,cov,int(N/6))))"
      ],
      "metadata": {
        "id": "KiGiD4RMOpkP"
      },
      "execution_count": 13,
      "outputs": []
    },
    {
      "cell_type": "code",
      "source": [
        "X=np.concatenate((X,20*np.random.rand(int(N/2),2)))"
      ],
      "metadata": {
        "id": "EPfuN7PaOpmp"
      },
      "execution_count": 14,
      "outputs": []
    },
    {
      "cell_type": "code",
      "source": [
        "y=np.concatenate((np.ones(int(N/2)),np.zeros(int(N/2))))"
      ],
      "metadata": {
        "id": "9vp5toNrOpo8"
      },
      "execution_count": 15,
      "outputs": []
    },
    {
      "cell_type": "code",
      "source": [
        "X.shape"
      ],
      "metadata": {
        "colab": {
          "base_uri": "https://localhost:8080/"
        },
        "id": "dj1yOvbpOprz",
        "outputId": "80eab578-07a0-457a-9368-7a93094c1976"
      },
      "execution_count": 16,
      "outputs": [
        {
          "output_type": "execute_result",
          "data": {
            "text/plain": [
              "(1500, 2)"
            ]
          },
          "metadata": {},
          "execution_count": 16
        }
      ]
    },
    {
      "cell_type": "code",
      "source": [
        "y"
      ],
      "metadata": {
        "colab": {
          "base_uri": "https://localhost:8080/"
        },
        "id": "VsgTCytvOpum",
        "outputId": "b55c4a32-405b-4fcc-bfa4-23d326839922"
      },
      "execution_count": 17,
      "outputs": [
        {
          "output_type": "execute_result",
          "data": {
            "text/plain": [
              "array([1., 1., 1., ..., 0., 0., 0.])"
            ]
          },
          "metadata": {},
          "execution_count": 17
        }
      ]
    },
    {
      "cell_type": "code",
      "source": [
        "plt.plot(X[:int(N/2),0],X[:int(N/2),1],'r+',X[int(N/2):,0],X[int(N/2):,1],'k.',ms=4)"
      ],
      "metadata": {
        "colab": {
          "base_uri": "https://localhost:8080/",
          "height": 465
        },
        "id": "yk6p_h4FO0_r",
        "outputId": "75045285-5c90-4792-b09e-547f9a4e8c34"
      },
      "execution_count": 18,
      "outputs": [
        {
          "output_type": "execute_result",
          "data": {
            "text/plain": [
              "[<matplotlib.lines.Line2D at 0x7ed6e768fa30>,\n",
              " <matplotlib.lines.Line2D at 0x7ed6e76d0970>]"
            ]
          },
          "metadata": {},
          "execution_count": 18
        },
        {
          "output_type": "display_data",
          "data": {
            "text/plain": [
              "<Figure size 640x480 with 1 Axes>"
            ],
            "image/png": "[encoded data removed]"
          },
          "metadata": {}
        }
      ]
    },
    {
      "cell_type": "code",
      "source": [
        "maxDepths=[2,3,4,5,6,7,8,9,10,15,20,25,30,35,40,45,50]"
      ],
      "metadata": {
        "id": "Sv3jLu55O1CD"
      },
      "execution_count": 19,
      "outputs": []
    },
    {
      "cell_type": "code",
      "source": [
        "len(maxDepths)"
      ],
      "metadata": {
        "colab": {
          "base_uri": "https://localhost:8080/"
        },
        "id": "T4NmoOQ2O1Ej",
        "outputId": "137f94dc-db98-465b-d694-3de340d46d35"
      },
      "execution_count": 20,
      "outputs": [
        {
          "output_type": "execute_result",
          "data": {
            "text/plain": [
              "17"
            ]
          },
          "metadata": {},
          "execution_count": 20
        }
      ]
    },
    {
      "cell_type": "code",
      "source": [
        "import numpy as np"
      ],
      "metadata": {
        "id": "HKq-6H70O1Gz"
      },
      "execution_count": 21,
      "outputs": []
    },
    {
      "cell_type": "code",
      "source": [
        "trainAcc=np.zeros(len(maxDepths))"
      ],
      "metadata": {
        "id": "WgmoAWSrO1Jm"
      },
      "execution_count": 22,
      "outputs": []
    },
    {
      "cell_type": "code",
      "source": [
        "trainAcc"
      ],
      "metadata": {
        "colab": {
          "base_uri": "https://localhost:8080/"
        },
        "id": "lNBlL9JcO1M7",
        "outputId": "252cf9f3-e1f9-4854-e585-55a2b2b2af93"
      },
      "execution_count": 23,
      "outputs": [
        {
          "output_type": "execute_result",
          "data": {
            "text/plain": [
              "array([0., 0., 0., 0., 0., 0., 0., 0., 0., 0., 0., 0., 0., 0., 0., 0., 0.])"
            ]
          },
          "metadata": {},
          "execution_count": 23
        }
      ]
    },
    {
      "cell_type": "code",
      "source": [
        "testAcc=np.zeros(len(maxDepths))"
      ],
      "metadata": {
        "id": "jy893aQhOpyD"
      },
      "execution_count": 24,
      "outputs": []
    },
    {
      "cell_type": "code",
      "source": [
        "testAcc"
      ],
      "metadata": {
        "colab": {
          "base_uri": "https://localhost:8080/"
        },
        "id": "HtUvX4_uO_aa",
        "outputId": "bce48273-eada-44ac-908a-073d10e62540"
      },
      "execution_count": 25,
      "outputs": [
        {
          "output_type": "execute_result",
          "data": {
            "text/plain": [
              "array([0., 0., 0., 0., 0., 0., 0., 0., 0., 0., 0., 0., 0., 0., 0., 0., 0.])"
            ]
          },
          "metadata": {},
          "execution_count": 25
        }
      ]
    },
    {
      "cell_type": "code",
      "source": [
        "from sklearn.model_selection import train_test_split"
      ],
      "metadata": {
        "id": "eE5g8KA7O_c7"
      },
      "execution_count": 26,
      "outputs": []
    },
    {
      "cell_type": "code",
      "source": [],
      "metadata": {
        "id": "IfSrJ8KkPX0V"
      },
      "execution_count": null,
      "outputs": []
    },
    {
      "cell_type": "code",
      "source": [
        "X_train, X_test, y_train, y_test = train_test_split(X, y, test_size=0.2, random_state=42)"
      ],
      "metadata": {
        "id": "7eLBJuvqO_fL"
      },
      "execution_count": 27,
      "outputs": []
    },
    {
      "cell_type": "code",
      "source": [
        "from sklearn.metrics import accuracy_score"
      ],
      "metadata": {
        "id": "GFA92sDNPaGt"
      },
      "execution_count": 30,
      "outputs": []
    },
    {
      "cell_type": "code",
      "source": [
        "from sklearn import tree"
      ],
      "metadata": {
        "id": "Muk5OEu7O_hx"
      },
      "execution_count": 28,
      "outputs": []
    },
    {
      "cell_type": "code",
      "source": [
        "index=0\n",
        "for depth in maxDepths:\n",
        "    clf=tree.DecisionTreeClassifier(max_depth=depth)\n",
        "    clf=clf.fit(X_train,y_train)\n",
        "    Y_predTrain=clf.predict(X_train)\n",
        "    Y_predTest=clf.predict(X_test)\n",
        "    trainAcc[index]=accuracy_score(y_train, Y_predTrain)#training data\n",
        "    testAcc[index]=accuracy_score(y_test, Y_predTest)#test data\n",
        "    index +=1"
      ],
      "metadata": {
        "id": "Xjv4VVnLO_jp"
      },
      "execution_count": 31,
      "outputs": []
    },
    {
      "cell_type": "code",
      "source": [
        "trainAcc"
      ],
      "metadata": {
        "colab": {
          "base_uri": "https://localhost:8080/"
        },
        "id": "mMVkdHNqO_mr",
        "outputId": "3f7ca69f-02dd-4df5-bd64-a10651f3dd75"
      },
      "execution_count": 32,
      "outputs": [
        {
          "output_type": "execute_result",
          "data": {
            "text/plain": [
              "array([0.64416667, 0.68583333, 0.72416667, 0.72666667, 0.755     ,\n",
              "       0.78      , 0.79      , 0.815     , 0.83416667, 0.9125    ,\n",
              "       0.96833333, 0.99416667, 1.        , 1.        , 1.        ,\n",
              "       1.        , 1.        ])"
            ]
          },
          "metadata": {},
          "execution_count": 32
        }
      ]
    },
    {
      "cell_type": "code",
      "source": [
        "testAcc"
      ],
      "metadata": {
        "colab": {
          "base_uri": "https://localhost:8080/"
        },
        "id": "VSw2tA5MO_qE",
        "outputId": "443aef56-e5b8-484c-823d-3a4abafa40fd"
      },
      "execution_count": 33,
      "outputs": [
        {
          "output_type": "execute_result",
          "data": {
            "text/plain": [
              "array([0.59666667, 0.65      , 0.69666667, 0.69666667, 0.72333333,\n",
              "       0.71      , 0.72      , 0.71666667, 0.71333333, 0.74666667,\n",
              "       0.69666667, 0.68333333, 0.67666667, 0.67666667, 0.68666667,\n",
              "       0.68      , 0.68      ])"
            ]
          },
          "metadata": {},
          "execution_count": 33
        }
      ]
    },
    {
      "cell_type": "code",
      "source": [
        "import matplotlib.pyplot as plt"
      ],
      "metadata": {
        "id": "4giS7yPwPIQ1"
      },
      "execution_count": 34,
      "outputs": []
    },
    {
      "cell_type": "code",
      "source": [
        "plt.plot(maxDepths,trainAcc,'ro-',maxDepths,testAcc,'bv--')\n",
        "plt.legend(['Training Accuracy','Test Accuracy'])\n",
        "plt.xlabel('Max Depth')\n",
        "plt.ylabel('Accuracy')\n",
        "plt.show()"
      ],
      "metadata": {
        "colab": {
          "base_uri": "https://localhost:8080/",
          "height": 449
        },
        "id": "noeREEjKPITG",
        "outputId": "faf6c79a-966c-4fec-b5f4-356bf94e9611"
      },
      "execution_count": 35,
      "outputs": [
        {
          "output_type": "display_data",
          "data": {
            "text/plain": [
              "<Figure size 640x480 with 1 Axes>"
            ],
            "image/png": "[encoded data removed]"
          },
          "metadata": {}
        }
      ]
    },
    {
      "cell_type": "code",
      "source": [
        "testAcc.max()"
      ],
      "metadata": {
        "colab": {
          "base_uri": "https://localhost:8080/"
        },
        "id": "9x66QF91PIVY",
        "outputId": "457ee1f4-ee83-4f4b-a34d-1e09955a845c"
      },
      "execution_count": 36,
      "outputs": [
        {
          "output_type": "execute_result",
          "data": {
            "text/plain": [
              "0.7466666666666667"
            ]
          },
          "metadata": {},
          "execution_count": 36
        }
      ]
    },
    {
      "cell_type": "code",
      "source": [],
      "metadata": {
        "id": "nU9fGStmPIYq"
      },
      "execution_count": null,
      "outputs": []
    }
  ]
}